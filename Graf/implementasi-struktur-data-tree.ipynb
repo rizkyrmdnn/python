{
  "nbformat": 4,
  "nbformat_minor": 0,
  "metadata": {
    "colab": {
      "provenance": []
    },
    "kernelspec": {
      "name": "python3",
      "display_name": "Python 3"
    },
    "language_info": {
      "name": "python"
    }
  },
  "cells": [
    {
      "cell_type": "markdown",
      "source": [
        "### Nama : Rizky Ramdhani Koswara\n",
        "### NPM : 11122300\n",
        "### Kelas : 3KA25"
      ],
      "metadata": {
        "id": "8m7dzzwWJARc"
      }
    },
    {
      "cell_type": "markdown",
      "source": [
        "#  Tugas 1: Implementasi Binary Tree dan Traversal"
      ],
      "metadata": {
        "id": "ou9WZseETgTN"
      }
    },
    {
      "cell_type": "code",
      "execution_count": null,
      "metadata": {
        "id": "YYe9Mex1QqDG"
      },
      "outputs": [],
      "source": [
        "\n",
        "# Representasi simpul dari pohon biner\n",
        "class Node:\n",
        "    def __init__(self, data):\n",
        "        self.data = data\n",
        "        self.left = None\n",
        "        self.right = None"
      ]
    },
    {
      "cell_type": "code",
      "source": [
        "# Metode Menambahkan simpul\n",
        "class BinaryTree:\n",
        "    def __init__(self, root_data):\n",
        "        self.root = Node(root_data)\n",
        "\n",
        "    def insert_left(self, current_node, data):\n",
        "        if current_node.left is None:\n",
        "            current_node.left = Node(data)\n",
        "        else:\n",
        "            new_node = Node(data)\n",
        "            new_node.left = current_node.left\n",
        "            current_node.left = new_node\n",
        "\n",
        "    def insert_right(self, current_node, data):\n",
        "        if current_node.right is None:\n",
        "            current_node.right = Node(data)\n",
        "        else:\n",
        "            new_node = Node(data)\n",
        "            new_node.right = current_node.right\n",
        "            current_node.right = new_node\n",
        "\n",
        "    def inorder_traversal(self, node):\n",
        "        if node:\n",
        "            self.inorder_traversal(node.left)\n",
        "            print(node.data, end=' ')\n",
        "            self.inorder_traversal(node.right)\n",
        "\n",
        "    def preorder_traversal(self, node):\n",
        "        if node:\n",
        "            print(node.data, end=' ')\n",
        "            self.preorder_traversal(node.left)\n",
        "            self.preorder_traversal(node.right)\n",
        "\n",
        "    def postorder_traversal(self, node):\n",
        "        if node:\n",
        "            self.postorder_traversal(node.left)\n",
        "            self.postorder_traversal(node.right)\n",
        "            print(node.data, end=' ')"
      ],
      "metadata": {
        "id": "YIk6zDe7SalP"
      },
      "execution_count": null,
      "outputs": []
    },
    {
      "cell_type": "code",
      "source": [
        "# Contoh penggunaan\n",
        "if __name__ == \"__main__\":\n",
        "    # Membuat pohon biner\n",
        "    bt = BinaryTree(1)\n",
        "    bt.insert_left(bt.root, 2)\n",
        "    bt.insert_right(bt.root, 3)\n",
        "    bt.insert_left(bt.root.left, 4)\n",
        "    bt.insert_right(bt.root.left, 5)"
      ],
      "metadata": {
        "id": "JspcCTQQSam4"
      },
      "execution_count": null,
      "outputs": []
    },
    {
      "cell_type": "code",
      "source": [
        "# Menampilkan hasil traversal\n",
        "print(\"Inorder:\", end=' ')\n",
        "bt.inorder_traversal(bt.root)\n",
        "print(\"\\nPreorder:\", end=' ')\n",
        "bt.preorder_traversal(bt.root)\n",
        "print(\"\\nPostorder:\", end=' ')\n",
        "bt.postorder_traversal(bt.root)"
      ],
      "metadata": {
        "colab": {
          "base_uri": "https://localhost:8080/"
        },
        "id": "Uul8e56DTwlF",
        "outputId": "22df2f83-66c7-469e-ff07-a72ef15aa4ed"
      },
      "execution_count": null,
      "outputs": [
        {
          "output_type": "stream",
          "name": "stdout",
          "text": [
            "Inorder: 4 2 5 1 3 \n",
            "Preorder: 1 2 4 5 3 \n",
            "Postorder: 4 5 2 3 1 "
          ]
        }
      ]
    },
    {
      "cell_type": "markdown",
      "source": [
        "# Tugas 2 : Membuat Binary Search Tree (BST)"
      ],
      "metadata": {
        "id": "v7eZEw3HU5Gj"
      }
    },
    {
      "cell_type": "code",
      "source": [
        "class Node:\n",
        "    def __init__(self, key):\n",
        "        self.left = None\n",
        "        self.right = None\n",
        "        self.val = key\n",
        "\n",
        "class BinarySearchTree:\n",
        "    def __init__(self):\n",
        "        self.root = None\n",
        "\n",
        "    def insert(self, root, key):\n",
        "        if root is None:\n",
        "            return Node(key)\n",
        "        else:\n",
        "            if key < root.val:\n",
        "                root.left = self.insert(root.left, key)\n",
        "            else:\n",
        "                root.right = self.insert(root.right, key)\n",
        "        return root\n",
        "\n",
        "    def search(self, root, key):\n",
        "        if root is None or root.val == key:\n",
        "            return root\n",
        "        if key < root.val:\n",
        "            return self.search(root.left, key)\n",
        "        return self.search(root.right, key)\n",
        "\n",
        "    def delete(self, root, key):\n",
        "        if root is None:\n",
        "            return root\n",
        "        if key < root.val:\n",
        "            root.left = self.delete(root.left, key)\n",
        "        elif key > root.val:\n",
        "            root.right = self.delete(root.right, key)\n",
        "        else:\n",
        "            # Node dengan satu cabang saja atau tidak ada sama sekali\n",
        "            if root.left is None:\n",
        "                return root.right\n",
        "            elif root.right is None:\n",
        "                return root.left\n",
        "            # Node dengan 2 cabang: inorder successor (paling kecil di subtree kanan)\n",
        "            temp = self.min_value_node(root.right)\n",
        "            root.val = temp.val\n",
        "            root.right = self.delete(root.right, temp.val)\n",
        "        return root\n",
        "\n",
        "    def min_value_node(self, node):\n",
        "        current = node\n",
        "        while current.left is not None:\n",
        "            current = current.left\n",
        "        return current\n",
        "\n",
        "    def print_tree(self, node, level=0):\n",
        "        if node is not None:\n",
        "            self.print_tree(node.right, level + 1)\n",
        "            print(' ' * 4 * level + '->', node.val)\n",
        "            self.print_tree(node.left, level + 1)"
      ],
      "metadata": {
        "id": "2w3Kb9vQdHoS"
      },
      "execution_count": null,
      "outputs": []
    },
    {
      "cell_type": "code",
      "source": [
        "# Contoh penggunaan\n",
        "if __name__ == \"__main__\":\n",
        "    bst = BinarySearchTree()\n",
        "    values_to_insert = [10, 5, 15, 2, 7]\n",
        "\n",
        "    # Insert values\n",
        "    for value in values_to_insert:\n",
        "        bst.root = bst.insert(bst.root, value)\n",
        "        print(\"Tree after insertion:\")\n",
        "        bst.print_tree(bst.root)"
      ],
      "metadata": {
        "id": "O62KjypPd9lg",
        "colab": {
          "base_uri": "https://localhost:8080/"
        },
        "outputId": "2b41da84-b9d4-43a5-bc13-48f8e2a6e133"
      },
      "execution_count": null,
      "outputs": [
        {
          "output_type": "stream",
          "name": "stdout",
          "text": [
            "Tree after insertion:\n",
            "-> 10\n",
            "Tree after insertion:\n",
            "-> 10\n",
            "    -> 5\n",
            "Tree after insertion:\n",
            "    -> 15\n",
            "-> 10\n",
            "    -> 5\n",
            "Tree after insertion:\n",
            "    -> 15\n",
            "-> 10\n",
            "    -> 5\n",
            "        -> 2\n",
            "Tree after insertion:\n",
            "    -> 15\n",
            "-> 10\n",
            "        -> 7\n",
            "    -> 5\n",
            "        -> 2\n"
          ]
        }
      ]
    },
    {
      "cell_type": "code",
      "source": [
        "# Search for a value\n",
        "search_value = 7\n",
        "found_node = bst.search(bst.root, search_value)\n",
        "print(f\"\\nSearch {search_value}: {'Found' if found_node else 'Not Found'}\")\n"
      ],
      "metadata": {
        "id": "oEdEO-lQd_P0",
        "colab": {
          "base_uri": "https://localhost:8080/"
        },
        "outputId": "d3b3af1b-bc8c-432e-9329-5f76ef5d2149"
      },
      "execution_count": null,
      "outputs": [
        {
          "output_type": "stream",
          "name": "stdout",
          "text": [
            "\n",
            "Search 7: Found\n"
          ]
        }
      ]
    },
    {
      "cell_type": "code",
      "source": [
        "# Delete a value\n",
        "delete_value = 5\n",
        "bst.root = bst.delete(bst.root, delete_value)\n",
        "print(f\"\\nTree after deleting {delete_value}:\")\n",
        "bst.print_tree(bst.root)"
      ],
      "metadata": {
        "colab": {
          "base_uri": "https://localhost:8080/"
        },
        "id": "_X9-4nKee7pk",
        "outputId": "cf4df27a-1bf3-44a3-9131-2db8b74f8610"
      },
      "execution_count": null,
      "outputs": [
        {
          "output_type": "stream",
          "name": "stdout",
          "text": [
            "\n",
            "Tree after deleting 5:\n",
            "    -> 15\n",
            "-> 10\n",
            "    -> 7\n",
            "        -> 2\n"
          ]
        }
      ]
    },
    {
      "cell_type": "markdown",
      "source": [
        "# Tugas 3 : Menemukan Tinggi (Depth) dari Sebuah Tree"
      ],
      "metadata": {
        "id": "bpqG90N6q1rA"
      }
    },
    {
      "cell_type": "code",
      "source": [
        "class Node:\n",
        "    def __init__(self, key):\n",
        "        self.left = None\n",
        "        self.right = None\n",
        "        self.val = key\n",
        "\n",
        "class BinaryTree:\n",
        "    def __init__(self, root_data):\n",
        "        self.root = Node(root_data)\n",
        "\n",
        "    def insert_left(self, current_node, data):\n",
        "        if current_node.left is None:\n",
        "            current_node.left = Node(data)\n",
        "        else:\n",
        "            new_node = Node(data)\n",
        "            new_node.left = current_node.left\n",
        "            current_node.left = new_node\n",
        "\n",
        "    def insert_right(self, current_node, data):\n",
        "        if current_node.right is None:\n",
        "            current_node.right = Node(data)\n",
        "        else:\n",
        "            new_node = Node(data)\n",
        "            new_node.right = current_node.right\n",
        "            current_node.right = new_node\n",
        "\n",
        "    def find_height(self, node):\n",
        "        if node is None:\n",
        "            return 0\n",
        "        else:\n",
        "            left_height = self.find_height(node.left)\n",
        "            right_height = self.find_height(node.right)\n",
        "            return max(left_height, right_height) + 1\n",
        "\n",
        "    def print_tree(self, node, level=0):\n",
        "        if node is not None:\n",
        "            self.print_tree(node.right, level + 1)\n",
        "            print(' ' * 4 * level + '->', node.val)\n",
        "            self.print_tree(node.left, level + 1)\n",
        "\n",
        "\n",
        "\n"
      ],
      "metadata": {
        "id": "rO3PyryXrA4I"
      },
      "execution_count": null,
      "outputs": []
    },
    {
      "cell_type": "code",
      "source": [
        "# Contoh penggunaan\n",
        "bt = BinaryTree(1)\n",
        "bt.insert_left(bt.root, 2)\n",
        "bt.insert_right(bt.root, 3)\n",
        "bt.insert_left(bt.root.left, 4)\n",
        "bt.insert_right(bt.root.left, 5)"
      ],
      "metadata": {
        "id": "b-Z8uAxPh_LL"
      },
      "execution_count": null,
      "outputs": []
    },
    {
      "cell_type": "code",
      "source": [
        "# Mencetak pohon\n",
        "print(\"Pohon:\")\n",
        "bt.print_tree(bt.root)"
      ],
      "metadata": {
        "colab": {
          "base_uri": "https://localhost:8080/"
        },
        "id": "yu4JkbYNiHII",
        "outputId": "3f316543-73c3-480c-ac6f-b88d5f0488c6"
      },
      "execution_count": null,
      "outputs": [
        {
          "output_type": "stream",
          "name": "stdout",
          "text": [
            "Pohon:\n",
            "    -> 3\n",
            "-> 1\n",
            "        -> 5\n",
            "    -> 2\n",
            "        -> 4\n"
          ]
        }
      ]
    },
    {
      "cell_type": "code",
      "source": [
        "# Menghitung tinggi pohon\n",
        "height = bt.find_height(bt.root)\n",
        "print(f\"\\nTinggi pohon: {height}\")"
      ],
      "metadata": {
        "colab": {
          "base_uri": "https://localhost:8080/"
        },
        "id": "Rm0gMQZRiLM9",
        "outputId": "b9dd6873-9ea8-4318-e2c9-0e5bac971c5e"
      },
      "execution_count": null,
      "outputs": [
        {
          "output_type": "stream",
          "name": "stdout",
          "text": [
            "\n",
            "Tinggi pohon: 3\n"
          ]
        }
      ]
    },
    {
      "cell_type": "markdown",
      "source": [
        "# Tugas 4 : Menentukan Simpul Daun dan Simpul Internal"
      ],
      "metadata": {
        "id": "lUFbBTxWiW2Q"
      }
    },
    {
      "cell_type": "code",
      "source": [
        "class Node:\n",
        "    def __init__(self, key):\n",
        "        self.left = None\n",
        "        self.right = None\n",
        "        self.val = key\n",
        "\n",
        "class BinaryTree:\n",
        "    def __init__(self, root_data):\n",
        "        self.root = Node(root_data)\n",
        "\n",
        "    def insert_left(self, current_node, data):\n",
        "        if current_node.left is None:\n",
        "            current_node.left = Node(data)\n",
        "        else:\n",
        "            new_node = Node(data)\n",
        "            new_node.left = current_node.left\n",
        "            current_node.left = new_node\n",
        "\n",
        "    def insert_right(self, current_node, data):\n",
        "        if current_node.right is None:\n",
        "            current_node.right = Node(data)\n",
        "        else:\n",
        "            new_node = Node(data)\n",
        "            new_node.right = current_node.right\n",
        "            current_node.right = new_node\n",
        "\n",
        "    def find_leaf_nodes(self, node, leaf_nodes):\n",
        "        if node is not None:\n",
        "            if node.left is None and node.right is None:\n",
        "                leaf_nodes.append(node.val)\n",
        "            self.find_leaf_nodes(node.left, leaf_nodes)\n",
        "            self.find_leaf_nodes(node.right, leaf_nodes)\n",
        "\n",
        "    def find_internal_nodes(self, node, internal_nodes):\n",
        "        if node is not None:\n",
        "            if node.left is not None or node.right is not None:\n",
        "                internal_nodes.append(node.val)\n",
        "            self.find_internal_nodes(node.left, internal_nodes)\n",
        "            self.find_internal_nodes(node.right, internal_nodes)\n",
        "\n",
        "    def print_tree(self, node, level=0):\n",
        "        if node is not None:\n",
        "            self.print_tree(node.right, level + 1)\n",
        "            print(' ' * 4 * level + '->', node.val)\n",
        "            self.print_tree(node.left, level + 1)\n",
        "\n",
        "\n",
        "\n",
        "\n",
        "\n",
        "\n"
      ],
      "metadata": {
        "id": "YZi4kSLQijq_"
      },
      "execution_count": null,
      "outputs": []
    },
    {
      "cell_type": "code",
      "source": [
        "# Contoh penggunaan\n",
        "bt = BinaryTree(10)\n",
        "bt.insert_left(bt.root, 5)\n",
        "bt.insert_right(bt.root, 15)\n",
        "bt.insert_left(bt.root.left, 2)\n",
        "bt.insert_right(bt.root.left, 7)\n",
        "bt.insert_left(bt.root.right, 12)\n",
        "bt.insert_right(bt.root.right, 20)"
      ],
      "metadata": {
        "id": "gRwiuG5HizeQ"
      },
      "execution_count": null,
      "outputs": []
    },
    {
      "cell_type": "code",
      "source": [
        "# Mencetak pohon\n",
        "print(\"Pohon:\")\n",
        "bt.print_tree(bt.root)"
      ],
      "metadata": {
        "colab": {
          "base_uri": "https://localhost:8080/"
        },
        "id": "2Yku0C--i5iz",
        "outputId": "4df847d4-b295-43bb-8c54-e4bdb35abee5"
      },
      "execution_count": null,
      "outputs": [
        {
          "output_type": "stream",
          "name": "stdout",
          "text": [
            "Pohon:\n",
            "        -> 20\n",
            "    -> 15\n",
            "        -> 12\n",
            "-> 10\n",
            "        -> 7\n",
            "    -> 5\n",
            "        -> 2\n"
          ]
        }
      ]
    },
    {
      "cell_type": "code",
      "source": [
        "# Mencari simpul daun\n",
        "leaf_nodes = []\n",
        "bt.find_leaf_nodes(bt.root, leaf_nodes)\n",
        "print(f\"\\nSimpul Daun: {', '.join(map(str, leaf_nodes))}\")"
      ],
      "metadata": {
        "colab": {
          "base_uri": "https://localhost:8080/"
        },
        "id": "hrTj0BN_i_4T",
        "outputId": "d48b61d3-0424-4e9b-b45e-192054d25498"
      },
      "execution_count": null,
      "outputs": [
        {
          "output_type": "stream",
          "name": "stdout",
          "text": [
            "\n",
            "Simpul Daun: 2, 7, 12, 20\n"
          ]
        }
      ]
    },
    {
      "cell_type": "code",
      "source": [
        "# Mencari simpul internal\n",
        "internal_nodes = []\n",
        "bt.find_internal_nodes(bt.root, internal_nodes)\n",
        "print(f\"Simpul Internal: {', '.join(map(str, internal_nodes))}\")"
      ],
      "metadata": {
        "colab": {
          "base_uri": "https://localhost:8080/"
        },
        "id": "xW48jZt4jC-8",
        "outputId": "6998c430-cac1-44f4-9a29-0d60b73261d3"
      },
      "execution_count": null,
      "outputs": [
        {
          "output_type": "stream",
          "name": "stdout",
          "text": [
            "Simpul Internal: 10, 5, 15\n"
          ]
        }
      ]
    },
    {
      "cell_type": "markdown",
      "source": [
        "# Tugas 5 :  Implementasi Minimal Spanning Tree (Pohon Rentangan Minimal)"
      ],
      "metadata": {
        "id": "r6Yq7OoLfdW-"
      }
    },
    {
      "cell_type": "code",
      "source": [
        "import networkx as nx\n",
        "import matplotlib.pyplot as plt\n"
      ],
      "metadata": {
        "id": "gcqkPn_YffxT"
      },
      "execution_count": null,
      "outputs": []
    },
    {
      "cell_type": "code",
      "source": [
        "# Membuat graf berbobot\n",
        "G = nx.Graph()"
      ],
      "metadata": {
        "id": "rRc29z4Sf-YZ"
      },
      "execution_count": null,
      "outputs": []
    },
    {
      "cell_type": "code",
      "source": [
        "# Menambahkan tepi (edges) dengan bobot\n",
        "edges = [\n",
        "    (1, 2, 4),\n",
        "    (1, 3, 1),\n",
        "    (2, 3, 2),\n",
        "    (2, 4, 5),\n",
        "    (3, 4, 8),\n",
        "    (3, 5, 3),\n",
        "    (4, 5, 7)\n",
        "]\n",
        "\n",
        "G.add_weighted_edges_from(edges)"
      ],
      "metadata": {
        "id": "AIf_UOLqgHA7"
      },
      "execution_count": null,
      "outputs": []
    },
    {
      "cell_type": "code",
      "source": [
        "# Menghitung pohon rentangan minimal (MST) menggunakan algoritma Prim\n",
        "mst = nx.minimum_spanning_tree(G)"
      ],
      "metadata": {
        "id": "3ePGILfhgK0T"
      },
      "execution_count": null,
      "outputs": []
    },
    {
      "cell_type": "code",
      "source": [
        "# Menghitung total bobot dari MST\n",
        "total_weight = mst.size(weight='weight')"
      ],
      "metadata": {
        "id": "LD-bWT2OgQmX"
      },
      "execution_count": null,
      "outputs": []
    },
    {
      "cell_type": "code",
      "source": [
        "# Mencetak graf asli\n",
        "pos = nx.spring_layout(G)  # Posisi untuk semua simpul\n",
        "plt.figure(figsize=(10, 5))"
      ],
      "metadata": {
        "colab": {
          "base_uri": "https://localhost:8080/",
          "height": 53
        },
        "id": "ZlDuTpPwgTfP",
        "outputId": "ff72d297-65e1-42d3-9a01-0f92984d46d1"
      },
      "execution_count": null,
      "outputs": [
        {
          "output_type": "execute_result",
          "data": {
            "text/plain": [
              "<Figure size 1000x500 with 0 Axes>"
            ]
          },
          "metadata": {},
          "execution_count": 6
        },
        {
          "output_type": "display_data",
          "data": {
            "text/plain": [
              "<Figure size 1000x500 with 0 Axes>"
            ]
          },
          "metadata": {}
        }
      ]
    },
    {
      "cell_type": "code",
      "source": [
        "# Gambar graf asli\n",
        "plt.subplot(121)\n",
        "nx.draw(G, pos, with_labels=True, node_color='lightblue', node_size=700, font_size=16, font_weight='bold')\n",
        "edge_labels = nx.get_edge_attributes(G, 'weight')\n",
        "nx.draw_networkx_edge_labels(G, pos, edge_labels=edge_labels, font_color='red')\n",
        "plt.title(\"Graf Berbobot\")"
      ],
      "metadata": {
        "colab": {
          "base_uri": "https://localhost:8080/",
          "height": 446
        },
        "id": "ttbRPnCcgTdx",
        "outputId": "47017ad0-88be-4063-b4aa-29870e154c2c"
      },
      "execution_count": null,
      "outputs": [
        {
          "output_type": "execute_result",
          "data": {
            "text/plain": [
              "Text(0.5, 1.0, 'Graf Berbobot')"
            ]
          },
          "metadata": {},
          "execution_count": 7
        },
        {
          "output_type": "display_data",
          "data": {
            "text/plain": [
              "<Figure size 640x480 with 1 Axes>"
            ],
            "image/png": "[encoded data removed]"
          },
          "metadata": {}
        }
      ]
    },
    {
      "cell_type": "code",
      "source": [
        "# Mencetak MST\n",
        "plt.subplot(122)\n",
        "nx.draw(mst, pos, with_labels=True, node_color='lightgreen', node_size=700, font_size=16, font_weight='bold')\n",
        "mst_edge_labels = nx.get_edge_attributes(mst, 'weight')\n",
        "nx.draw_networkx_edge_labels(mst, pos, edge_labels=mst_edge_labels, font_color='red')\n",
        "plt.title(\"Pohon Rentangan Minimal (MST)\")\n",
        "\n",
        "plt.show()"
      ],
      "metadata": {
        "colab": {
          "base_uri": "https://localhost:8080/",
          "height": 428
        },
        "id": "qmurtZdYgZ9w",
        "outputId": "35cbad5a-2b16-4fbd-87ed-00fbf7a3150f"
      },
      "execution_count": null,
      "outputs": [
        {
          "output_type": "display_data",
          "data": {
            "text/plain": [
              "<Figure size 640x480 with 1 Axes>"
            ],
            "image/png": "[encoded data removed]"
          },
          "metadata": {}
        }
      ]
    },
    {
      "cell_type": "code",
      "source": [
        "# Mencetak total bobot MST\n",
        "print(f\"Total bobot MST: {total_weight}\")"
      ],
      "metadata": {
        "colab": {
          "base_uri": "https://localhost:8080/"
        },
        "id": "Rbwi-7bPgchK",
        "outputId": "000f47f2-12a8-488f-a0c4-5c18f80b3d51"
      },
      "execution_count": null,
      "outputs": [
        {
          "output_type": "stream",
          "name": "stdout",
          "text": [
            "Total bobot MST: 11.0\n"
          ]
        }
      ]
    },
    {
      "cell_type": "markdown",
      "source": [],
      "metadata": {
        "id": "W5LpgJuRI6Ra"
      }
    }
  ]
}