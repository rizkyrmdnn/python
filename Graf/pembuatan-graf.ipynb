{
  "cells": [
    {
      "cell_type": "code",
      "execution_count": 1,
      "metadata": {
        "colab": {
          "base_uri": "https://localhost:8080/"
        },
        "id": "Ne-c90C5cYkf",
        "outputId": "bc240fa4-92d9-4930-b91a-2f1c1c9c0b1d"
      },
      "outputs": [
        {
          "output_type": "stream",
          "name": "stdout",
          "text": [
            "Requirement already satisfied: networkx in /usr/local/lib/python3.10/dist-packages (3.4.2)\n",
            "Requirement already satisfied: matplotlib in /usr/local/lib/python3.10/dist-packages (3.8.0)\n",
            "Requirement already satisfied: contourpy>=1.0.1 in /usr/local/lib/python3.10/dist-packages (from matplotlib) (1.3.1)\n",
            "Requirement already satisfied: cycler>=0.10 in /usr/local/lib/python3.10/dist-packages (from matplotlib) (0.12.1)\n",
            "Requirement already satisfied: fonttools>=4.22.0 in /usr/local/lib/python3.10/dist-packages (from matplotlib) (4.55.0)\n",
            "Requirement already satisfied: kiwisolver>=1.0.1 in /usr/local/lib/python3.10/dist-packages (from matplotlib) (1.4.7)\n",
            "Requirement already satisfied: numpy<2,>=1.21 in /usr/local/lib/python3.10/dist-packages (from matplotlib) (1.26.4)\n",
            "Requirement already satisfied: packaging>=20.0 in /usr/local/lib/python3.10/dist-packages (from matplotlib) (24.2)\n",
            "Requirement already satisfied: pillow>=6.2.0 in /usr/local/lib/python3.10/dist-packages (from matplotlib) (11.0.0)\n",
            "Requirement already satisfied: pyparsing>=2.3.1 in /usr/local/lib/python3.10/dist-packages (from matplotlib) (3.2.0)\n",
            "Requirement already satisfied: python-dateutil>=2.7 in /usr/local/lib/python3.10/dist-packages (from matplotlib) (2.8.2)\n",
            "Requirement already satisfied: six>=1.5 in /usr/local/lib/python3.10/dist-packages (from python-dateutil>=2.7->matplotlib) (1.16.0)\n"
          ]
        }
      ],
      "source": [
        "# Langkah 1: Install Library yang Dibutuhkan\n",
        "!pip install networkx matplotlib"
      ]
    },
    {
      "cell_type": "code",
      "execution_count": 2,
      "metadata": {
        "id": "9fdnL7yVc0D9"
      },
      "outputs": [],
      "source": [
        "# Langkah 2: Import Library\n",
        "import networkx as nx\n",
        "import matplotlib.pyplot as plt"
      ]
    },
    {
      "cell_type": "code",
      "execution_count": 3,
      "metadata": {
        "id": "DnTsN_6mc8QC"
      },
      "outputs": [],
      "source": [
        "# Langkah 3: Membuat Graf Kosong\n",
        "G = nx.Graph()"
      ]
    },
    {
      "cell_type": "code",
      "execution_count": 4,
      "metadata": {
        "id": "DaM4VlwSdEud"
      },
      "outputs": [],
      "source": [
        "# Langkah 5: Menambahkan Sisi (Edges) dengan Bobot\n",
        "G.add_edge('A', 'B', weight=2)\n",
        "G.add_edge('A', 'C', weight=4)\n",
        "G.add_edge('B', 'C', weight=1)\n",
        "G.add_edge('B', 'D', weight=7)\n",
        "G.add_edge('C', 'E', weight=3)"
      ]
    },
    {
      "cell_type": "code",
      "execution_count": 5,
      "metadata": {
        "id": "5u7Ko69MdPZ2"
      },
      "outputs": [],
      "source": [
        "# Langkah 6: Menggambar Graf dengan Matplotlib\n",
        "pos = nx.spring_layout(G)  # Posisi layout untuk visualisasi\n",
        "edges = G.edges(data=True)\n",
        "weights = [edge[2]['weight'] for edge in edges]  # Mengambil bobot sisi"
      ]
    },
    {
      "cell_type": "code",
      "execution_count": 6,
      "metadata": {
        "colab": {
          "base_uri": "https://localhost:8080/",
          "height": 603
        },
        "id": "_a38z-9QdZLR",
        "outputId": "c7abb03a-1838-4a49-9ebc-f426595188bf"
      },
      "outputs": [
        {
          "output_type": "execute_result",
          "data": {
            "text/plain": [
              "{('A', 'B'): Text(-0.18012911313045743, -0.2624475579650717, '2'),\n",
              " ('A', 'C'): Text(0.2965616396911708, 0.01827722203897153, '4'),\n",
              " ('B', 'C'): Text(-0.05063662613153874, -0.022658168664121958, '1'),\n",
              " ('B', 'D'): Text(-0.7636623370257518, -0.38996134953973904, '7'),\n",
              " ('C', 'E'): Text(0.6801292596562436, 0.5007170406629272, '3')}"
            ]
          },
          "metadata": {},
          "execution_count": 6
        },
        {
          "output_type": "display_data",
          "data": {
            "text/plain": [
              "<Figure size 640x480 with 1 Axes>"
            ],
            "image/png": "[encoded data removed]"
          },
          "metadata": {}
        }
      ],
      "source": [
        "    # Menggambar graf dengan node dan edges\n",
        "    nx.draw(G, pos, with_labels=True, node_color='lightblue', node_size=3000, font_size=13, font_weight='bold', width=2)\n",
        "    nx.draw_networkx_edge_labels(G, pos, edge_labels={(u, v): d['weight'] for u, v, d in G.edges(data=True)})\n"
      ]
    },
    {
      "cell_type": "markdown",
      "source": [],
      "metadata": {
        "id": "wO4lDxVWgCrs"
      }
    },
    {
      "cell_type": "markdown",
      "source": [],
      "metadata": {
        "id": "xhYoOzF_gDRm"
      }
    },
    {
      "cell_type": "code",
      "execution_count": 6,
      "metadata": {
        "id": "uDciE938dm0H"
      },
      "outputs": [],
      "source": []
    }
  ],
  "metadata": {
    "colab": {
      "provenance": []
    },
    "kernelspec": {
      "display_name": "Python 3",
      "name": "python3"
    },
    "language_info": {
      "name": "python"
    }
  },
  "nbformat": 4,
  "nbformat_minor": 0
}