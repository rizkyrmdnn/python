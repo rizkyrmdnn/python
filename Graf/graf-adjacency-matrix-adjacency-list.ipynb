{
  "nbformat": 4,
  "nbformat_minor": 0,
  "metadata": {
    "colab": {
      "provenance": []
    },
    "kernelspec": {
      "name": "python3",
      "display_name": "Python 3"
    },
    "language_info": {
      "name": "python"
    }
  },
  "cells": [
    {
      "cell_type": "markdown",
      "source": [
        "# 4. Implementasi Python (Menggunakan Google Colabs)\n",
        "- Buat program menggunakan Python untuk merepresentasikan graf berarah yang telah dibuat dalam bentuk adjacency matrix dan adjacency list.\n",
        "- Tampilkan hasil adjacency matrix dan adjacency list dari program tersebut.\n",
        "- Tulis fungsi untuk menghitung indegree dan outdegree setiap simpul dan tampilkan hasilnya.\n"
      ],
      "metadata": {
        "id": "E1DE0hpjG0At"
      }
    },
    {
      "cell_type": "code",
      "execution_count": null,
      "metadata": {
        "id": "f6xBIHJs3eWl"
      },
      "outputs": [],
      "source": [
        "# Import library\n",
        "import matplotlib.pyplot as plt\n",
        "import networkx as nx\n",
        "import numpy as np"
      ]
    },
    {
      "cell_type": "code",
      "source": [
        "# Definisikan graf menggunakan adjacency matrix\n",
        "def create_adjacency_matrix(edges, num_nodes):\n",
        "    matrix = np.zeros((num_nodes, num_nodes), dtype=int)\n",
        "    for edge in edges:\n",
        "        src, dest = edge\n",
        "        matrix[src][dest] = 1\n",
        "    return matrix"
      ],
      "metadata": {
        "id": "99H-mnBbMCIF"
      },
      "execution_count": null,
      "outputs": []
    },
    {
      "cell_type": "code",
      "source": [
        "# Definisikan graf menggunakan adjacency list\n",
        "def create_adjacency_list(edges, num_nodes):\n",
        "    adj_list = [[] for _ in range(num_nodes)]\n",
        "    for edge in edges:\n",
        "        src, dest = edge\n",
        "        adj_list[src].append(dest)\n",
        "    return adj_list"
      ],
      "metadata": {
        "id": "voy3_HBJKblS"
      },
      "execution_count": null,
      "outputs": []
    },
    {
      "cell_type": "code",
      "source": [
        "# Fungsi untuk menghitung indegree dan outdegree\n",
        "def calculate_degrees(matrix):\n",
        "    num_nodes = len(matrix)\n",
        "    indegree = [0] * num_nodes\n",
        "    outdegree = [0] * num_nodes\n",
        "\n",
        "    for i in range(num_nodes):\n",
        "        for j in range(num_nodes):\n",
        "            if matrix[i][j] == 1:\n",
        "                outdegree[i] += 1\n",
        "                indegree[j] += 1\n",
        "\n",
        "    return indegree, outdegree\n"
      ],
      "metadata": {
        "id": "3UgOW-HWLCWo"
      },
      "execution_count": null,
      "outputs": []
    },
    {
      "cell_type": "code",
      "source": [
        "# Contoh graf berarah seperti pada gambar\n",
        "# Representasikan simpul dengan indeks: A=0, B=1, C=2, D=3, E=4\n",
        "edges = [(0, 1), (0, 2), (1, 2), (1, 3), (2, 0), (3, 4)]\n",
        "num_nodes = 5"
      ],
      "metadata": {
        "id": "y7726PZlLGwG"
      },
      "execution_count": null,
      "outputs": []
    },
    {
      "cell_type": "code",
      "source": [
        "# Buat adjacency matrix\n",
        "adj_matrix = create_adjacency_matrix(edges, num_nodes)\n",
        "print(\"Adjacency Matrix:\")\n",
        "print(adj_matrix)"
      ],
      "metadata": {
        "colab": {
          "base_uri": "https://localhost:8080/"
        },
        "id": "Ai6w4fnNLLS2",
        "outputId": "0dde8700-62fe-419d-d04c-75bf6c7065d1"
      },
      "execution_count": null,
      "outputs": [
        {
          "output_type": "stream",
          "name": "stdout",
          "text": [
            "Adjacency Matrix:\n",
            "[[0 1 1 0 0]\n",
            " [0 0 1 1 0]\n",
            " [1 0 0 0 0]\n",
            " [0 0 0 0 1]\n",
            " [0 0 0 0 0]]\n"
          ]
        }
      ]
    },
    {
      "cell_type": "code",
      "source": [
        "# Buat adjacency list\n",
        "adj_list = create_adjacency_list(edges, num_nodes)\n",
        "print(\"\\nAdjacency List:\")\n",
        "for idx, neighbors in enumerate(adj_list):\n",
        "    print(f\"{chr(idx + ord('A'))}: {', '.join(chr(n + ord('A')) for n in neighbors)}\")\n"
      ],
      "metadata": {
        "colab": {
          "base_uri": "https://localhost:8080/"
        },
        "id": "unCC2q7wLO8d",
        "outputId": "48c3efe2-0b99-4998-9ecc-6785c0a51cfa"
      },
      "execution_count": null,
      "outputs": [
        {
          "output_type": "stream",
          "name": "stdout",
          "text": [
            "\n",
            "Adjacency List:\n",
            "A: B, C\n",
            "B: C, D\n",
            "C: A\n",
            "D: E\n",
            "E: \n"
          ]
        }
      ]
    },
    {
      "cell_type": "code",
      "source": [
        "# Hitung indegree dan outdegree\n",
        "indegree, outdegree = calculate_degrees(adj_matrix)\n",
        "print(\"\\nIndegree and Outdegree:\")\n",
        "for i in range(num_nodes):\n",
        "    print(f\"{chr(i + ord('A'))}: Indegree = {indegree[i]}, Outdegree = {outdegree[i]}\")"
      ],
      "metadata": {
        "colab": {
          "base_uri": "https://localhost:8080/"
        },
        "id": "ykLzZBfMLn5_",
        "outputId": "7956306f-c6db-4fd9-dfc7-47b1374ed87e"
      },
      "execution_count": null,
      "outputs": [
        {
          "output_type": "stream",
          "name": "stdout",
          "text": [
            "\n",
            "Indegree and Outdegree:\n",
            "A: Indegree = 1, Outdegree = 2\n",
            "B: Indegree = 1, Outdegree = 2\n",
            "C: Indegree = 2, Outdegree = 1\n",
            "D: Indegree = 1, Outdegree = 1\n",
            "E: Indegree = 1, Outdegree = 0\n"
          ]
        }
      ]
    },
    {
      "cell_type": "code",
      "source": [
        "# Visualisasikan graf menggunakan NetworkX\n",
        "G = nx.DiGraph()\n",
        "labels = {0: 'A', 1: 'B', 2: 'C', 3: 'D', 4: 'E'}\n",
        "\n",
        "for edge in edges:\n",
        "    G.add_edge(edge[0], edge[1])"
      ],
      "metadata": {
        "id": "Cx1s2H6wLxIE"
      },
      "execution_count": null,
      "outputs": []
    },
    {
      "cell_type": "code",
      "source": [
        "# Set custom positions to match the provided image\n",
        "pos = {\n",
        "    0: (-1, -1),  # A\n",
        "    1: (1, -1),   # B\n",
        "    2: (0, 0),    # C\n",
        "    3: (1, 1),    # D\n",
        "    4: (0, 2)     # E\n",
        "}"
      ],
      "metadata": {
        "id": "m0WWvjMkL21k"
      },
      "execution_count": null,
      "outputs": []
    },
    {
      "cell_type": "code",
      "source": [
        "# Menampilkan graf\n",
        "plt.figure(figsize=(8, 6))\n",
        "nx.draw(G, pos, with_labels=True, labels=labels, node_color='deeppink', node_size=3000, font_color='white', font_size=15, arrowstyle='-|>', arrowsize=20)\n",
        "plt.show()"
      ],
      "metadata": {
        "colab": {
          "base_uri": "https://localhost:8080/",
          "height": 636
        },
        "id": "CT-7sBKkL6b6",
        "outputId": "83f1596e-5601-4521-e917-2209b6106052"
      },
      "execution_count": null,
      "outputs": [
        {
          "output_type": "display_data",
          "data": {
            "text/plain": [
              "<Figure size 800x600 with 1 Axes>"
            ],
            "image/png": "[encoded data removed]"
          },
          "metadata": {}
        }
      ]
    }
  ]
}