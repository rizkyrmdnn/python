{
 "cells": [
  {
   "cell_type": "code",
   "execution_count": null,
   "id": "58dd5118",
   "metadata": {},
   "outputs": [
    {
     "name": "stdout",
     "output_type": "stream",
     "text": [
      "Selamat datang di permainan Gunting-Batu-Kertas!\n",
      "Masukkan langkah Anda (gunting/batu/kertas): gunting\n",
      "Anda memilih gunting dan komputer memilih None : kalah\n",
      "Masukkan langkah Anda (gunting/batu/kertas): kertas\n",
      "Komputer memprediksi Anda akan memilih batu\n",
      "Anda memilih kertas dan komputer memilih batu : menang\n"
     ]
    }
   ],
   "source": [
    "import random\n",
    "\n",
    "# Membuat model Markov untuk Gunting-Batu-Kertas\n",
    "transition = {\n",
    "    'gunting': {'gunting': 0.4, 'batu': 0.3, 'kertas': 0.3},\n",
    "    'batu': {'gunting': 0.3, 'batu': 0.4, 'kertas': 0.3},\n",
    "    'kertas': {'gunting': 0.3, 'batu': 0.3, 'kertas': 0.4}\n",
    "}\n",
    "\n",
    "# Membuat fungsi untuk memprediksi langkah selanjutnya berdasarkan model Markov\n",
    "def predict_next_move(last_move):\n",
    "    moves = ['gunting', 'batu', 'kertas']\n",
    "    probabilities = transition[last_move]\n",
    "    next_move = random.choices(moves, weights=probabilities.values())[0]\n",
    "    return next_move\n",
    "\n",
    "# Memulai permainan Gunting-Batu-Kertas\n",
    "print(\"Selamat datang di permainan Gunting-Batu-Kertas!\")\n",
    "last_move = None\n",
    "while True:\n",
    "    player_move = input(\"Masukkan langkah Anda (gunting/batu/kertas): \")\n",
    "    if player_move not in ['gunting', 'batu', 'kertas']:\n",
    "        print(\"Langkah tidak valid, silakan coba lagi.\")\n",
    "        continue\n",
    "    if last_move is not None:\n",
    "        predicted_move = predict_next_move(last_move)\n",
    "        print(\"Komputer memprediksi Anda akan memilih\", predicted_move)\n",
    "    else:\n",
    "        predicted_move = None\n",
    "    result = None\n",
    "    if player_move == predicted_move:\n",
    "        result = 'seri'\n",
    "    elif player_move == 'gunting' and predicted_move == 'kertas':\n",
    "        result = 'menang'\n",
    "    elif player_move == 'batu' and predicted_move == 'gunting':\n",
    "        result = 'menang'\n",
    "    elif player_move == 'kertas' and predicted_move == 'batu':\n",
    "        result = 'menang'\n",
    "    else:\n",
    "        result = 'kalah'\n",
    "    print(\"Anda memilih\", player_move, \"dan komputer memilih\", predicted_move, \":\", result)\n",
    "    last_move = player_move"
   ]
  },
  {
   "cell_type": "code",
   "execution_count": null,
   "id": "77941bd8",
   "metadata": {},
   "outputs": [],
   "source": []
  }
 ],
 "metadata": {
  "kernelspec": {
   "display_name": "Python 3 (ipykernel)",
   "language": "python",
   "name": "python3"
  },
  "language_info": {
   "codemirror_mode": {
    "name": "ipython",
    "version": 3
   },
   "file_extension": ".py",
   "mimetype": "text/x-python",
   "name": "python",
   "nbconvert_exporter": "python",
   "pygments_lexer": "ipython3",
   "version": "3.10.6"
  }
 },
 "nbformat": 4,
 "nbformat_minor": 5
}
