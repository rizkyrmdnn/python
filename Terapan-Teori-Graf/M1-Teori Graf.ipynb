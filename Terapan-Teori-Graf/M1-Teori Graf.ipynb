{
  "cells": [
    {
      "cell_type": "markdown",
      "metadata": {
        "id": "U2RVNcV-ULop"
      },
      "source": [
        "#### Contoh kasus 1\n",
        "Dalam contoh kasus pertama kali ini, Kita akan mencoba membangun sebuah graf dengan struktur sebagai berikut.\n",
        "\n",
        "Dalam merepresentasikan bentuk graf tersebut, kita akan membuat 2 fungsi untuk memudah"
      ]
    },
    {
      "cell_type": "code",
      "execution_count": null,
      "metadata": {
        "id": "dKDkElXIQbXQ"
      },
      "outputs": [],
      "source": [
        "## Blok program ini Anda mencoba mendefinisikan node dan hubungan Antara node dalam bentuk obyek.\n",
        "graph = { \"a\" : {\"c\"},\n",
        "          \"b\" : {\"c\", \"e\"},\n",
        "          \"c\" : {\"a\", \"b\", \"d\", \"e\"},\n",
        "          \"d\" : {\"c\"},\n",
        "          \"e\" : {\"c\", \"b\"},\n",
        "          \"f\" : {}\n",
        "        }"
      ]
    },
    {
      "cell_type": "code",
      "execution_count": null,
      "metadata": {
        "id": "hmS4AGUiQ2wI"
      },
      "outputs": [],
      "source": [
        "## Blok program ini Anda mencoba membuat EDGE dari informasi yang sudah Anda definisikan sebelumnya.\n",
        "def generate_edges(graph):\n",
        "    edges = []\n",
        "    for node in graph:\n",
        "        for neighbour in graph[node]:\n",
        "            edges.append({node, neighbour})\n",
        "\n",
        "    return edges"
      ]
    },
    {
      "cell_type": "code",
      "execution_count": null,
      "metadata": {
        "colab": {
          "base_uri": "https://localhost:8080/"
        },
        "id": "HUZC1Q1_Q4A4",
        "outputId": "0a90d982-a33d-44c0-f37a-c847ca5d26a7"
      },
      "outputs": [
        {
          "name": "stdout",
          "output_type": "stream",
          "text": [
            "[{'a', 'c'}, {'e', 'b'}, {'c', 'b'}, {'e', 'c'}, {'c', 'b'}, {'c', 'a'}, {'c', 'd'}, {'c', 'd'}, {'e', 'c'}, {'e', 'b'}]\n"
          ]
        }
      ],
      "source": [
        "print(generate_edges(graph))"
      ]
    },
    {
      "cell_type": "code",
      "execution_count": null,
      "metadata": {
        "id": "9SB-tujmQ5UX"
      },
      "outputs": [],
      "source": [
        "## Blok program ini Anda mendefinisikan sebuah fungsi untuk mengetahui node mana yang tidak memiliki edge\n",
        "def find_isolated_nodes(graph):\n",
        "    \"\"\" returns a set of isolated nodes. \"\"\"\n",
        "    isolated = set()\n",
        "    for node in graph:\n",
        "        if not graph[node]:\n",
        "            isolated.add(node)\n",
        "    return isolated"
      ]
    },
    {
      "cell_type": "code",
      "execution_count": null,
      "metadata": {
        "colab": {
          "base_uri": "https://localhost:8080/"
        },
        "id": "Hl0q-s54Q6ko",
        "outputId": "c7ce3696-f8c8-4ccf-a1f6-a63b3e58bfc0"
      },
      "outputs": [
        {
          "name": "stdout",
          "output_type": "stream",
          "text": [
            "{'f'}\n"
          ]
        }
      ],
      "source": [
        "print(find_isolated_nodes(graph))"
      ]
    },
    {
      "cell_type": "markdown",
      "metadata": {
        "id": "N664-FSZQ7j_"
      },
      "source": [
        "#### Contoh kasus 2\n",
        "Dalam contoh kasus kedua kali ini, Kita akan mencoba membangun sebuah graf dan mendapatkan informasi lebih detail\n",
        "mengenai graf tersebut. Untuk memudahkan, Kita akan mendefinisikan sebuah Class dalam bahasa pemrograman python,\n",
        "dimana Class ini berisi beberapa fungsi yang bisa kita gunakan untuk mengetahui informasi detail mengenai stuktur dari graf yang kita miliki"
      ]
    },
    {
      "cell_type": "code",
      "execution_count": null,
      "metadata": {
        "id": "JamCylk3Q_sA"
      },
      "outputs": [],
      "source": [
        "\"\"\" A Python Class\n",
        "A simple Python graph class, demonstrating the essential\n",
        "facts and functionalities of graphs.\n",
        "\"\"\"\n",
        "\n",
        "\n",
        "class Graph(object):\n",
        "\n",
        "    def __init__(self, graph_dict=None):\n",
        "        \"\"\" initializes a graph object\n",
        "            If no dictionary or None is given,\n",
        "            an empty dictionary will be used\n",
        "        \"\"\"\n",
        "        if graph_dict == None:\n",
        "            graph_dict = {}\n",
        "        self._graph_dict = graph_dict\n",
        "\n",
        "    def edges(self, vertice):\n",
        "        \"\"\" returns a list of all the edges of a vertice\"\"\"\n",
        "        return self._graph_dict[vertice]\n",
        "\n",
        "    def all_vertices(self):\n",
        "        \"\"\" returns the vertices of a graph as a set \"\"\"\n",
        "        return set(self._graph_dict.keys())\n",
        "\n",
        "    def all_edges(self):\n",
        "        \"\"\" returns the edges of a graph \"\"\"\n",
        "        return self.__generate_edges()\n",
        "\n",
        "    def add_vertex(self, vertex):\n",
        "        \"\"\" If the vertex \"vertex\" is not in\n",
        "            self._graph_dict, a key \"vertex\" with an empty\n",
        "            list as a value is added to the dictionary.\n",
        "            Otherwise nothing has to be done.\n",
        "        \"\"\"\n",
        "        if vertex not in self._graph_dict:\n",
        "            self._graph_dict[vertex] = []\n",
        "\n",
        "    def add_edge(self, edge):\n",
        "        \"\"\" assumes that edge is of type set, tuple or list;\n",
        "            between two vertices can be multiple edges!\n",
        "        \"\"\"\n",
        "        edge = set(edge)\n",
        "        vertex1, vertex2 = tuple(edge)\n",
        "        for x, y in [(vertex1, vertex2), (vertex2, vertex1)]:\n",
        "            if x in self._graph_dict:\n",
        "                self._graph_dict[x].add(y)\n",
        "            else:\n",
        "                self._graph_dict[x] = [y]\n",
        "\n",
        "    def __generate_edges(self):\n",
        "        \"\"\" A static method generating the edges of the\n",
        "            graph \"graph\". Edges are represented as sets\n",
        "            with one (a loop back to the vertex) or two\n",
        "            vertices\n",
        "        \"\"\"\n",
        "        edges = []\n",
        "        for vertex in self._graph_dict:\n",
        "            for neighbour in self._graph_dict[vertex]:\n",
        "                if {neighbour, vertex} not in edges:\n",
        "                    edges.append({vertex, neighbour})\n",
        "        return edges\n",
        "\n",
        "    def __iter__(self):\n",
        "        self._iter_obj = iter(self._graph_dict)\n",
        "        return self._iter_obj\n",
        "\n",
        "    def __next__(self):\n",
        "        \"\"\" allows us to iterate over the vertices \"\"\"\n",
        "        return next(self._iter_obj)\n",
        "\n",
        "    def __str__(self):\n",
        "        res = \"vertices: \"\n",
        "        for k in self._graph_dict:\n",
        "            res += str(k) + \" \"\n",
        "        res += \"\\nedges: \"\n",
        "        for edge in self.__generate_edges():\n",
        "            res += str(edge) + \" \"\n",
        "        return res"
      ]
    },
    {
      "cell_type": "code",
      "execution_count": null,
      "metadata": {
        "id": "l9TEOMUERB4D"
      },
      "outputs": [],
      "source": [
        "\n",
        "graph_dict = { \"a\" : {\"d\"},\n",
        "              \"b\" : {\"c\"},\n",
        "              \"c\" : {\"b\", \"c\", \"d\", \"e\"},\n",
        "              \"d\" : {\"a\", \"c\"},\n",
        "              \"e\" : {\"c\"},\n",
        "              \"f\" : {}\n",
        "            }"
      ]
    },
    {
      "cell_type": "code",
      "execution_count": null,
      "metadata": {
        "colab": {
          "base_uri": "https://localhost:8080/"
        },
        "id": "YSD5PhQVRC6u",
        "outputId": "bbc23e60-5276-408b-a018-2eefc331f2c1"
      },
      "outputs": [
        {
          "name": "stdout",
          "output_type": "stream",
          "text": [
            "Edges of vertice {vertex}:  {'d'}\n",
            "Edges of vertice {vertex}:  {'c'}\n",
            "Edges of vertice {vertex}:  {'e', 'b', 'd', 'c'}\n",
            "Edges of vertice {vertex}:  {'a', 'c'}\n",
            "Edges of vertice {vertex}:  {'c'}\n",
            "Edges of vertice {vertex}:  {}\n"
          ]
        }
      ],
      "source": [
        "\n",
        "graph = Graph(graph_dict)\n",
        "\n",
        "for vertex in graph:\n",
        "    print(\"Edges of vertice {vertex}: \", graph.edges(vertex))"
      ]
    },
    {
      "cell_type": "code",
      "execution_count": null,
      "metadata": {
        "id": "jxeDztOcRD5N"
      },
      "outputs": [],
      "source": [
        "graph.add_edge({\"ab\", \"fg\"})\n",
        "graph.add_edge({\"xyz\", \"bla\"})"
      ]
    },
    {
      "cell_type": "code",
      "execution_count": null,
      "metadata": {
        "colab": {
          "base_uri": "https://localhost:8080/"
        },
        "id": "8WaCnrHTREuf",
        "outputId": "133d59ed-46e2-4958-e4a3-9e2ffcb24ed3"
      },
      "outputs": [
        {
          "name": "stdout",
          "output_type": "stream",
          "text": [
            "\n",
            "Vertices of graph:\n",
            "{'fg', 'b', 'xyz', 'ab', 'bla', 'e', 'a', 'c', 'f', 'd'}\n",
            "Edges of graph:\n",
            "[{'a', 'd'}, {'c', 'b'}, {'e', 'c'}, {'c', 'd'}, {'c'}, {'ab', 'fg'}, {'xyz', 'bla'}]\n"
          ]
        }
      ],
      "source": [
        "print(\"\")\n",
        "print(\"Vertices of graph:\")\n",
        "print(graph.all_vertices())\n",
        "\n",
        "\n",
        "print(\"Edges of graph:\")\n",
        "print(graph.all_edges())"
      ]
    },
    {
      "cell_type": "markdown",
      "metadata": {
        "id": "yMTGr2CBRFw_"
      },
      "source": [
        "#### Contoh kasus 3\n",
        "Dalam contoh kasus ketiga kali ini, Kita akan mencoba membangun sebuah graf dengan menggunakan library networkx dan matplotlib"
      ]
    },
    {
      "cell_type": "code",
      "execution_count": null,
      "metadata": {
        "id": "4XJJ9EuSRG1b"
      },
      "outputs": [],
      "source": [
        "import networkx as nx\n",
        "import matplotlib.pyplot as plt"
      ]
    },
    {
      "cell_type": "code",
      "execution_count": null,
      "metadata": {
        "id": "BgSpbBSpRIDf"
      },
      "outputs": [],
      "source": [
        "# Creating a Graph\n",
        "G = nx.Graph() # Right now G is empty"
      ]
    },
    {
      "cell_type": "code",
      "execution_count": null,
      "metadata": {
        "id": "itGJZ_oPRI0P"
      },
      "outputs": [],
      "source": [
        "G.add_node(1)\n",
        "G.add_nodes_from([2,3])"
      ]
    },
    {
      "cell_type": "code",
      "execution_count": null,
      "metadata": {
        "id": "q_LsMhPZRJz3"
      },
      "outputs": [],
      "source": [
        "G.add_edge(1,2)"
      ]
    },
    {
      "cell_type": "code",
      "execution_count": null,
      "metadata": {
        "id": "ppy1kkoGRLfw"
      },
      "outputs": [],
      "source": [
        "e = (2,3)\n",
        "G.add_edge(*e) # * unpacks the tuple\n",
        "G.add_edges_from([(1,2), (1,3)])"
      ]
    },
    {
      "cell_type": "code",
      "execution_count": null,
      "metadata": {
        "colab": {
          "base_uri": "https://localhost:8080/"
        },
        "id": "2k_9ZjG0RMg7",
        "outputId": "de74e10c-d0e3-4c3b-a056-ff5854a231ce"
      },
      "outputs": [
        {
          "data": {
            "text/plain": [
              "NodeView((1, 2, 3))"
            ]
          },
          "execution_count": 38,
          "metadata": {},
          "output_type": "execute_result"
        }
      ],
      "source": [
        "G.nodes()"
      ]
    },
    {
      "cell_type": "code",
      "execution_count": null,
      "metadata": {
        "colab": {
          "base_uri": "https://localhost:8080/"
        },
        "id": "gQIm_fF-RNbT",
        "outputId": "b46ac245-cf0a-4fce-d8fc-472fcbd579d9"
      },
      "outputs": [
        {
          "data": {
            "text/plain": [
              "EdgeView([(1, 2), (1, 3), (2, 3)])"
            ]
          },
          "execution_count": 39,
          "metadata": {},
          "output_type": "execute_result"
        }
      ],
      "source": [
        "G.edges()"
      ]
    },
    {
      "cell_type": "code",
      "execution_count": null,
      "metadata": {
        "id": "S79fjou_ROXn"
      },
      "outputs": [],
      "source": [
        "G.add_edge(1, 2)\n",
        "G.add_edge(2, 3)\n",
        "G.add_edge(3, 4)\n",
        "G.add_edge(1, 4)\n",
        "G.add_edge(1, 5)"
      ]
    },
    {
      "cell_type": "code",
      "execution_count": null,
      "metadata": {
        "colab": {
          "base_uri": "https://localhost:8080/",
          "height": 319
        },
        "id": "CApAyRMRRPcn",
        "outputId": "d75331c5-a5ca-426b-97e8-767d7ff079da"
      },
      "outputs": [
        {
          "data": {
            "image/png": "[encoded data removed]",
            "text/plain": [
              "<Figure size 432x288 with 1 Axes>"
            ]
          },
          "metadata": {},
          "output_type": "display_data"
        }
      ],
      "source": [
        "nx.draw(G, with_labels=True)"
      ]
    },
    {
      "cell_type": "code",
      "execution_count": null,
      "metadata": {
        "colab": {
          "base_uri": "https://localhost:8080/",
          "height": 34
        },
        "id": "EVZt7uSVRQOu",
        "outputId": "126ea849-30cb-452b-f92b-938c30c9ad97"
      },
      "outputs": [
        {
          "data": {
            "text/plain": [
              "<Figure size 432x288 with 0 Axes>"
            ]
          },
          "metadata": {},
          "output_type": "display_data"
        }
      ],
      "source": [
        "plt.savefig(\"contoh-graf-1.png\")"
      ]
    },
    {
      "cell_type": "code",
      "execution_count": null,
      "metadata": {
        "colab": {
          "base_uri": "https://localhost:8080/",
          "height": 319
        },
        "id": "lEEw6HyNRRQm",
        "outputId": "2ad99425-6e68-4a68-e880-9766f239ab58"
      },
      "outputs": [
        {
          "data": {
            "image/png": "[encoded data removed]",
            "text/plain": [
              "<Figure size 432x288 with 1 Axes>"
            ]
          },
          "metadata": {},
          "output_type": "display_data"
        }
      ],
      "source": [
        "# drawing in circular layout\n",
        "nx.draw_circular(G, with_labels=True)"
      ]
    },
    {
      "cell_type": "code",
      "execution_count": null,
      "metadata": {
        "colab": {
          "base_uri": "https://localhost:8080/",
          "height": 319
        },
        "id": "KbmfO-lrRSDj",
        "outputId": "182642f9-07dc-40e3-b50c-9d26a8d39219"
      },
      "outputs": [
        {
          "data": {
            "image/png": "[encoded data removed]",
            "text/plain": [
              "<Figure size 432x288 with 1 Axes>"
            ]
          },
          "metadata": {},
          "output_type": "display_data"
        }
      ],
      "source": [
        "nx.draw_planar(G, with_labels=True)"
      ]
    },
    {
      "cell_type": "code",
      "execution_count": null,
      "metadata": {
        "colab": {
          "base_uri": "https://localhost:8080/",
          "height": 319
        },
        "id": "IvZeiuY4RS51",
        "outputId": "19ef20b3-4c83-4676-d06c-981edddbb4c1"
      },
      "outputs": [
        {
          "data": {
            "image/png": "[encoded data removed]",
            "text/plain": [
              "<Figure size 432x288 with 1 Axes>"
            ]
          },
          "metadata": {},
          "output_type": "display_data"
        }
      ],
      "source": [
        "nx.draw_random(G, with_labels = True)"
      ]
    },
    {
      "cell_type": "code",
      "execution_count": null,
      "metadata": {
        "colab": {
          "base_uri": "https://localhost:8080/",
          "height": 319
        },
        "id": "8wUb9ifhRTqx",
        "outputId": "b6b87147-de81-427e-cddd-8dada166b0a5"
      },
      "outputs": [
        {
          "data": {
            "image/png": "[encoded data removed]",
            "text/plain": [
              "<Figure size 432x288 with 1 Axes>"
            ]
          },
          "metadata": {},
          "output_type": "display_data"
        }
      ],
      "source": [
        "nx.draw_spectral(G, with_labels = True)"
      ]
    },
    {
      "cell_type": "code",
      "execution_count": null,
      "metadata": {
        "colab": {
          "base_uri": "https://localhost:8080/",
          "height": 319
        },
        "id": "lfcpOnycRUlm",
        "outputId": "b77d1ae9-587b-473c-d214-6b0ed2179be7"
      },
      "outputs": [
        {
          "data": {
            "image/png": "[encoded data removed]",
            "text/plain": [
              "<Figure size 432x288 with 1 Axes>"
            ]
          },
          "metadata": {},
          "output_type": "display_data"
        }
      ],
      "source": [
        "nx.draw_spring(G, with_labels = True)"
      ]
    },
    {
      "cell_type": "code",
      "execution_count": null,
      "metadata": {
        "colab": {
          "base_uri": "https://localhost:8080/",
          "height": 319
        },
        "id": "w9mgmmUFRVix",
        "outputId": "c1f81072-c5f2-43f3-d20d-235db2422513"
      },
      "outputs": [
        {
          "data": {
            "image/png": "[encoded data removed]",
            "text/plain": [
              "<Figure size 432x288 with 1 Axes>"
            ]
          },
          "metadata": {},
          "output_type": "display_data"
        }
      ],
      "source": [
        "nx.draw_shell(G, with_labels = True)"
      ]
    }
  ],
  "metadata": {
    "colab": {
      "provenance": []
    },
    "kernelspec": {
      "display_name": "Python 3",
      "name": "python3"
    },
    "language_info": {
      "name": "python"
    }
  },
  "nbformat": 4,
  "nbformat_minor": 0
}