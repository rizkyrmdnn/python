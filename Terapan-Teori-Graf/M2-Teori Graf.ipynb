{
  "nbformat": 4,
  "nbformat_minor": 0,
  "metadata": {
    "colab": {
      "provenance": []
    },
    "kernelspec": {
      "name": "python3",
      "display_name": "Python 3"
    },
    "language_info": {
      "name": "python"
    }
  },
  "cells": [
    {
      "cell_type": "code",
      "execution_count": 34,
      "metadata": {
        "id": "npqjsYXsmTVy"
      },
      "outputs": [],
      "source": [
        "graph = {\n",
        "    'A': ['Z', 'S', 'T'],\n",
        "    'Z': ['O'],\n",
        "    'O': ['S1'],\n",
        "    'S1': ['F', 'R'],\n",
        "    'F': ['B'],\n",
        "    'B': [],\n",
        "    'R': [],\n",
        "    'S': ['O1', 'F1', 'R1'],\n",
        "    'O1': [],\n",
        "    'F1': ['B1'],\n",
        "    'B1': [],\n",
        "    'R1': ['C', 'P'],\n",
        "    'C': [],\n",
        "    'P': [],\n",
        "    'T': ['L'],\n",
        "    'L': ['M'],\n",
        "    'M': ['D'],\n",
        "    'D': []\n",
        "}"
      ]
    },
    {
      "cell_type": "code",
      "source": [
        "visited = set()  # Set to keep track of visited nodes."
      ],
      "metadata": {
        "id": "I8BZrO3HmWXo"
      },
      "execution_count": 35,
      "outputs": []
    },
    {
      "cell_type": "code",
      "source": [
        "def dfs(visited, graph, node):\n",
        "    if node not in visited:\n",
        "        print(node)\n",
        "        visited.add(node)\n",
        "        for neighbour in graph[node]:\n",
        "            dfs(visited, graph, neighbour)"
      ],
      "metadata": {
        "id": "0oeQkzBRmXvT"
      },
      "execution_count": 36,
      "outputs": []
    },
    {
      "cell_type": "code",
      "source": [
        "print(\"Depth First Search\")"
      ],
      "metadata": {
        "colab": {
          "base_uri": "https://localhost:8080/"
        },
        "id": "I62xei0kmYuj",
        "outputId": "b76ab3cf-a167-42c7-b24c-b736a53f6383"
      },
      "execution_count": 37,
      "outputs": [
        {
          "output_type": "stream",
          "name": "stdout",
          "text": [
            "Depth First Search\n"
          ]
        }
      ]
    },
    {
      "cell_type": "code",
      "source": [
        "dfs(visited, graph, 'A')"
      ],
      "metadata": {
        "colab": {
          "base_uri": "https://localhost:8080/"
        },
        "id": "tSrupobFmZwn",
        "outputId": "520d4ad9-fcc6-49e7-f97c-ead4202b31c1"
      },
      "execution_count": 38,
      "outputs": [
        {
          "output_type": "stream",
          "name": "stdout",
          "text": [
            "A\n",
            "Z\n",
            "O\n",
            "S1\n",
            "F\n",
            "B\n",
            "R\n",
            "S\n",
            "O1\n",
            "F1\n",
            "B1\n",
            "R1\n",
            "C\n",
            "P\n",
            "T\n",
            "L\n",
            "M\n",
            "D\n"
          ]
        }
      ]
    }
  ]
}