{
 "cells": [
  {
   "cell_type": "code",
   "execution_count": 1,
   "id": "b42a4c20",
   "metadata": {},
   "outputs": [
    {
     "name": "stdout",
     "output_type": "stream",
     "text": [
      "          * \n",
      "        * * \n",
      "      * * * \n",
      "    * * * * \n",
      "  * * * * * \n",
      "* * * * * * \n"
     ]
    }
   ],
   "source": [
    "rows = 6  \n",
    "k = 2 * rows - 2  \n",
    "for i in range(0, rows):  \n",
    "    for j in range(0, k):  \n",
    "        print(end=\" \")  \n",
    "    k = k - 2   \n",
    "    for j in range(0, i + 1):  \n",
    "        print(\"* \", end=\"\")  \n",
    "    print(\"\")  "
   ]
  },
  {
   "cell_type": "code",
   "execution_count": 2,
   "id": "7d9bf814",
   "metadata": {},
   "outputs": [
    {
     "name": "stdout",
     "output_type": "stream",
     "text": [
      "* * * * * * \n",
      "  * * * * * \n",
      "    * * * * \n",
      "      * * * \n",
      "        * * \n",
      "          * \n"
     ]
    }
   ],
   "source": [
    "rows = 6\n",
    "i = rows\n",
    "while i >= 1:\n",
    "    j = rows\n",
    "    while j > i:\n",
    "        print(' ', end=' ')\n",
    "        j -= 1\n",
    "    k = 1\n",
    "    while k <= i:\n",
    "        print('*', end=' ')\n",
    "        k += 1\n",
    "    print()\n",
    "    i -= 1"
   ]
  },
  {
   "cell_type": "code",
   "execution_count": 3,
   "id": "db1e339f",
   "metadata": {},
   "outputs": [
    {
     "name": "stdout",
     "output_type": "stream",
     "text": [
      "     * \r\n",
      "    * * \r\n",
      "   * * * \r\n",
      "  * * * * \r\n",
      " * * * * * \r\n",
      "* * * * * * \r\n"
     ]
    }
   ],
   "source": [
    "\n",
    "\n",
    "def triangle(n):\n",
    "    k = n - 1\n",
    "    for i in range(0, n):\n",
    "        for j in range(0, k):\n",
    "            print(end=\" \")\n",
    "        k = k - 1\n",
    "        for j in range(0, i+1):\n",
    "            print(\"* \", end=\"\")\n",
    "        print(\"\\r\")\n",
    "n = 6\n",
    "triangle(n)"
   ]
  },
  {
   "cell_type": "code",
   "execution_count": null,
   "id": "b3a6de2d",
   "metadata": {},
   "outputs": [],
   "source": []
  }
 ],
 "metadata": {
  "kernelspec": {
   "display_name": "Python 3 (ipykernel)",
   "language": "python",
   "name": "python3"
  },
  "language_info": {
   "codemirror_mode": {
    "name": "ipython",
    "version": 3
   },
   "file_extension": ".py",
   "mimetype": "text/x-python",
   "name": "python",
   "nbconvert_exporter": "python",
   "pygments_lexer": "ipython3",
   "version": "3.10.6"
  }
 },
 "nbformat": 4,
 "nbformat_minor": 5
}
